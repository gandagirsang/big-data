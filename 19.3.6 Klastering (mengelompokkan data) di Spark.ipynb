{
 "cells": [
  {
   "cell_type": "markdown",
   "metadata": {},
   "source": [
    "# Mengimport library dan package machine learning"
   ]
  },
  {
   "cell_type": "code",
   "execution_count": 1,
   "metadata": {
    "collapsed": true
   },
   "outputs": [],
   "source": [
    "#mengimport modul yang dibutuhkan\n",
    "from pyspark.ml.clustering import KMeans\n",
    "from pyspark.ml.feature import VectorAssembler\n",
    "\n",
    "#membuat session\n",
    "appName = \"Klastering di Spark\"\n",
    "spark = SparkSession \\\n",
    "    .builder \\\n",
    "    .appName(appName) \\\n",
    "    .config(\"spark.some.config.option\", \"some-value\") \\\n",
    "    .getOrCreate()"
   ]
  },
  {
   "cell_type": "markdown",
   "metadata": {},
   "source": [
    "# Memuat data kostumer dari file\n",
    "Data kostumer diberikan file \"customer.csv\" di folder \"dataset\". Adapun data di file tersebut memiliki kolom sebagai berikut:\n",
    "- CustomerName: nama kostumer\n",
    "- Age: umur kostumer (dalam tahun)\n",
    "- MaritalStatus: status pernikahan kostumer (1=sudah menikah, 0 = belum menikah)\n",
    "- IncomeRange: pendapatan per tahun dari kustomer (dalam USD)\n",
    "- Gender: jenis kelamin (1 = perempuan, 2 = laki-laki)\n",
    "- TotalChildren: jumlah anak yang dimiliki oleh kostumer\n",
    "- ChildrenAtHome: jumlah anak yang tinggal di rumah bersama kostumer\n",
    "- Education: level pendidikan dari kostumer (1=SMA, 2=S1, 3=S2, 4=S3, 5=Post-graduate)\n",
    "- Occupation: pekerjaan dari kostumer (0=unskilled manual work hingga 5=professional)\n",
    "- HomeOwner: kepemilikan rumah (1=memiliki rumah sendiri, 0=tidak memiliki rumah sendiri)\n",
    "- Cars: jumlah mobil yang dimiliki kostumer"
   ]
  },
  {
   "cell_type": "code",
   "execution_count": 2,
   "metadata": {},
   "outputs": [
    {
     "name": "stdout",
     "output_type": "stream",
     "text": [
      "+---------------+---+-------------+-----------+------+-------------+--------------+---------+----------+---------+----+\n",
      "|   CustomerName|Age|MaritalStatus|IncomeRange|Gender|TotalChildren|ChildrenAtHome|Education|Occupation|HomeOwner|Cars|\n",
      "+---------------+---+-------------+-----------+------+-------------+--------------+---------+----------+---------+----+\n",
      "|    Aaron Adams| 42|            0|      50000|     0|            0|             0|        3|         2|        1|   1|\n",
      "|Aaron Alexander| 40|            1|      50000|     0|            0|             0|        2|         2|        1|   2|\n",
      "|    Aaron Allen| 63|            0|      25000|     0|            2|             1|        2|         1|        1|   2|\n",
      "+---------------+---+-------------+-----------+------+-------------+--------------+---------+----------+---------+----+\n",
      "only showing top 3 rows\n",
      "\n"
     ]
    }
   ],
   "source": [
    "#memuat data dari file ke DataFrame dengan infer skema\n",
    "customers = spark.read.csv(\n",
    "    'dataset/customers.csv', inferSchema=True, header=True)\n",
    "customers.show(3)"
   ]
  },
  {
   "cell_type": "markdown",
   "metadata": {},
   "source": [
    "# Menyiapkan data training"
   ]
  },
  {
   "cell_type": "code",
   "execution_count": 3,
   "metadata": {
    "scrolled": false
   },
   "outputs": [
    {
     "name": "stdout",
     "output_type": "stream",
     "text": [
      "+---------------+----------------------------------------------+\n",
      "|CustomerName   |features                                      |\n",
      "+---------------+----------------------------------------------+\n",
      "|Aaron Adams    |[42.0,0.0,50000.0,0.0,0.0,0.0,3.0,2.0,1.0,1.0]|\n",
      "|Aaron Alexander|[40.0,1.0,50000.0,0.0,0.0,0.0,2.0,2.0,1.0,2.0]|\n",
      "|Aaron Allen    |[63.0,0.0,25000.0,0.0,2.0,1.0,2.0,1.0,1.0,2.0]|\n",
      "+---------------+----------------------------------------------+\n",
      "only showing top 3 rows\n",
      "\n"
     ]
    }
   ],
   "source": [
    "#membuat assembler untuk mengubah fitur menjadi satu kolom fitur\n",
    "assembler = VectorAssembler(inputCols = [\n",
    "    \"Age\", \"MaritalStatus\", \"IncomeRange\", \"Gender\", \"TotalChildren\", \n",
    "    \"ChildrenAtHome\", \"Education\", \"Occupation\", \"HomeOwner\", \"Cars\"], \n",
    "                            outputCol=\"features\")\n",
    "train = assembler.transform(customers).select('CustomerName', 'features')\n",
    "train.show(truncate = False, n=3)"
   ]
  },
  {
   "cell_type": "markdown",
   "metadata": {},
   "source": [
    "# Membuat model k-Means klastering"
   ]
  },
  {
   "cell_type": "code",
   "execution_count": 4,
   "metadata": {},
   "outputs": [
    {
     "name": "stdout",
     "output_type": "stream",
     "text": [
      "Model selesai dibuat!\n"
     ]
    }
   ],
   "source": [
    "#mendefinisikan algoritma klastering\n",
    "kmeans = KMeans(\n",
    "    featuresCol=assembler.getOutputCol(), predictionCol=\"cluster\", \n",
    "    k=5, seed=0)\n",
    "#mentraining model dengan perintah \".fit()\"\n",
    "model = kmeans.fit(train)\n",
    "print (\"Model selesai dibuat!\")"
   ]
  },
  {
   "cell_type": "markdown",
   "metadata": {},
   "source": [
    "# Mencari nilai titik tengah dari setiap klaster"
   ]
  },
  {
   "cell_type": "code",
   "execution_count": 5,
   "metadata": {
    "scrolled": true
   },
   "outputs": [
    {
     "name": "stdout",
     "output_type": "stream",
     "text": [
      "Cluster Centers: \n",
      "[  5.19737441e+01   5.26868545e-01   5.00000000e+04   4.93961141e-01\n",
      "   1.34552774e+00   4.98337126e-01   3.23035183e+00   2.77927534e+00\n",
      "   6.62699107e-01   1.14615789e+00]\n",
      "[  5.82794840e+01   6.22850123e-01   1.50000000e+05   4.79729730e-01\n",
      "   2.07248157e+00   3.20638821e+00   3.41461916e+00   4.34705160e+00\n",
      "   6.48648649e-01   3.10995086e+00]\n",
      "[  5.53417813e+01   5.72411296e-01   1.00000000e+05   4.97103548e-01\n",
      "   2.54380883e+00   1.54272266e+00   3.46198407e+00   4.19116582e+00\n",
      "   7.16509776e-01   1.94532947e+00]\n",
      "[  5.60711289e+01   5.83804487e-01   7.50000000e+04   5.03921211e-01\n",
      "   2.17308043e+00   8.16706183e-01   3.73244574e+00   3.92759438e+00\n",
      "   7.23326646e-01   1.38063104e+00]\n",
      "[  5.31013005e+01   4.17180014e-01   2.50000000e+04   4.80492813e-01\n",
      "   1.41512663e+00   6.08487337e-01   2.31622177e+00   1.45448323e+00\n",
      "   5.93086927e-01   1.11464750e+00]\n"
     ]
    }
   ],
   "source": [
    "centers = model.clusterCenters()\n",
    "print(\"Cluster Centers: \")\n",
    "for center in centers:\n",
    "    print(center)"
   ]
  },
  {
   "cell_type": "markdown",
   "metadata": {},
   "source": [
    "# Memprediksi klaster"
   ]
  },
  {
   "cell_type": "code",
   "execution_count": 6,
   "metadata": {
    "scrolled": true
   },
   "outputs": [
    {
     "name": "stdout",
     "output_type": "stream",
     "text": [
      "+-------+-----+\n",
      "|cluster|count|\n",
      "+-------+-----+\n",
      "|      0| 5713|\n",
      "|      1| 1628|\n",
      "|      2| 2762|\n",
      "|      3| 5483|\n",
      "|      4| 2922|\n",
      "+-------+-----+\n",
      "\n",
      "+---------------+-------+\n",
      "|   CustomerName|cluster|\n",
      "+---------------+-------+\n",
      "|    Aaron Adams|      0|\n",
      "|Aaron Alexander|      0|\n",
      "|    Aaron Allen|      4|\n",
      "|    Aaron Baker|      0|\n",
      "|   Aaron Bryant|      3|\n",
      "+---------------+-------+\n",
      "only showing top 5 rows\n",
      "\n"
     ]
    }
   ],
   "source": [
    "prediction = model.transform(train)#melakukan prediksi klaster\n",
    "prediction.groupBy(\"cluster\").count().orderBy(\"cluster\").show()\n",
    "prediction.select('CustomerName', 'cluster').show(5)#menampilkan 5 data hasil prediksi"
   ]
  },
  {
   "cell_type": "code",
   "execution_count": null,
   "metadata": {
    "collapsed": true
   },
   "outputs": [],
   "source": []
  }
 ],
 "metadata": {
  "kernelspec": {
   "display_name": "Python 3",
   "language": "python",
   "name": "python3"
  },
  "language_info": {
   "codemirror_mode": {
    "name": "ipython",
    "version": 3
   },
   "file_extension": ".py",
   "mimetype": "text/x-python",
   "name": "python",
   "nbconvert_exporter": "python",
   "pygments_lexer": "ipython3",
   "version": "3.6.3"
  }
 },
 "nbformat": 4,
 "nbformat_minor": 2
}
